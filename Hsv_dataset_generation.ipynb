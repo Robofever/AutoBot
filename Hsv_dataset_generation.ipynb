{
 "cells": [
  {
   "cell_type": "code",
   "execution_count": null,
   "metadata": {},
   "outputs": [],
   "source": [
    "import cv2\n",
    "import numpy as np\n",
    "import os \n"
   ]
  },
  {
   "cell_type": "code",
   "execution_count": null,
   "metadata": {},
   "outputs": [],
   "source": [
    "path = os.getcwd()\n",
    "clean_path = os.path.join(path, r\"Clean\")\n",
    "unclean_path = os.path.join(path, r\"Unclean\")"
   ]
  },
  {
   "cell_type": "code",
   "execution_count": null,
   "metadata": {},
   "outputs": [],
   "source": [
    "from os import listdir\n",
    "from os.path import isfile, join\n",
    "image_names = [f for f in listdir(clean_path) if isfile(join(clean_path, f))]\n",
    "unclean_image_names = [f for f in listdir(unclean_path) if isfile(join(unclean_path, f))]"
   ]
  },
  {
   "cell_type": "code",
   "execution_count": null,
   "metadata": {},
   "outputs": [],
   "source": [
    "img = cv2.imread('Clean/solar_Fri_Jun_16_6__0__25_2017_L_0.0901960784314_I_0.003.jpg')\n",
    "hsv_image = cv2.cvtColor(img,cv2.COLOR_BGR2HSV)"
   ]
  },
  {
   "cell_type": "code",
   "execution_count": null,
   "metadata": {},
   "outputs": [],
   "source": [
    "#Blue Color\n",
    "low_blue = np.array([110,50,50])\n",
    "high_blue = np.array([130,255,255])\n",
    "blue_mask = cv2.inRange(hsv_image, low_blue, high_blue)\n",
    "blue = cv2.bitwise_and(img, img, mask = blue_mask)"
   ]
  },
  {
   "cell_type": "code",
   "execution_count": null,
   "metadata": {},
   "outputs": [],
   "source": [
    "Clean_hsv= os.path.join(path, 'Clean_hsv')\n",
    "os.mkdir(Clean_hsv)\n",
    "Unclean_hsv=os.path.join(path, 'Unclean_hsv')\n",
    "os.mkdir(Unclean_hsv)"
   ]
  },
  {
   "cell_type": "code",
   "execution_count": null,
   "metadata": {},
   "outputs": [],
   "source": [
    "for r in unclean_image_names:\n",
    "    num = f\"{r}\"\n",
    "    temp = os.path.join(unclean_path, num)\n",
    "    save = os.path.join(Unclean_hsv, num)\n",
    "    read= cv2.imread(temp)\n",
    "    hsv= cv2.cvtColor(read, cv2.COLOR_BGR2HSV)\n",
    "    conv= cv2.bitwise_and(hsv, hsv, mask= blue_mask)\n",
    "    final = np.array(conv)\n",
    "    cv2.imwrite(save, final)"
   ]
  },
  {
   "cell_type": "code",
   "execution_count": null,
   "metadata": {},
   "outputs": [],
   "source": [
    "for r in image_names:\n",
    "    num = f\"{r}\"\n",
    "    temp = os.path.join(clean_path, num)\n",
    "    save = os.path.join(Clean_hsv, num)\n",
    "    read= cv2.imread(temp)\n",
    "    hsv= cv2.cvtColor(read, cv2.COLOR_BGR2HSV)\n",
    "    conv= cv2.bitwise_and(hsv, hsv, mask= blue_mask)\n",
    "    final = np.array(conv)\n",
    "    cv2.imwrite(save, final)"
   ]
  }
 ],
 "metadata": {
  "kernelspec": {
   "display_name": "Python [conda env:openCV]",
   "language": "python",
   "name": "conda-env-openCV-py"
  },
  "language_info": {
   "codemirror_mode": {
    "name": "ipython",
    "version": 3
   },
   "file_extension": ".py",
   "mimetype": "text/x-python",
   "name": "python",
   "nbconvert_exporter": "python",
   "pygments_lexer": "ipython3",
   "version": "3.7.0"
  }
 },
 "nbformat": 4,
 "nbformat_minor": 4
}
